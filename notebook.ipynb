{
  "cells": [
    {
      "cell_type": "markdown",
      "metadata": {
        "id": "H9wADwK78DCz"
      },
      "source": [
        "# Proyek Analisis Data: Bike Sharing Dataset\n",
        "- **Nama:** Joseph Putra Chrisyanto\n",
        "- **Email:** C14220330@john.petra.ac.id\n",
        "- **ID Dicoding:** JOSEPH PUTRA C"
      ]
    },
    {
      "cell_type": "markdown",
      "metadata": {
        "id": "eE0raob58DC0"
      },
      "source": [
        "## Menentukan Pertanyaan Bisnis"
      ]
    },
    {
      "cell_type": "markdown",
      "metadata": {
        "id": "GmQeQ5YF8DC0"
      },
      "source": [
        "- Seberapa besar perbedaan presentase antara penyewaan akhir pekan dan hari kerja?\n",
        "\n",
        "- Bagaimana perubahan persewaan tiap musim gugur selama dua tahun terakhir?"
      ]
    },
    {
      "cell_type": "markdown",
      "metadata": {
        "id": "H-z4QGlO8DC1"
      },
      "source": [
        "## Import Semua Packages/Library yang Digunakan"
      ]
    },
    {
      "cell_type": "code",
      "execution_count": null,
      "metadata": {
        "id": "FVYwaObI8DC1"
      },
      "outputs": [],
      "source": [
        "import numpy as np\n",
        "import pandas as pd\n",
        "import matplotlib.pyplot as plt"
      ]
    },
    {
      "cell_type": "markdown",
      "metadata": {
        "id": "h_Sh51Xy8DC1"
      },
      "source": [
        "## Data Wrangling"
      ]
    },
    {
      "cell_type": "markdown",
      "metadata": {
        "id": "sXU2GBYu8DC1"
      },
      "source": [
        "### Gathering Data"
      ]
    },
    {
      "cell_type": "code",
      "execution_count": null,
      "metadata": {
        "id": "zjCBk1BI8DC1"
      },
      "outputs": [],
      "source": [
        "day_df = pd.read_csv(\"day.csv\")\n",
        "day_df.head()"
      ]
    },
    {
      "cell_type": "markdown",
      "metadata": {
        "id": "MMi6xGaDkbCi"
      },
      "source": [
        "**Insight:**\n",
        "- Import data dari file \"day.csv\" dan menunjukan 5 row awal\n",
        "- Data yang diimport mempunyai 16 kolom"
      ]
    },
    {
      "cell_type": "markdown",
      "metadata": {
        "id": "FHSiqaZp8DC1"
      },
      "source": [
        "### Assessing Data"
      ]
    },
    {
      "cell_type": "code",
      "execution_count": null,
      "metadata": {
        "id": "LixKfF46oUFD"
      },
      "outputs": [],
      "source": [
        "day_df.isna().sum()"
      ]
    },
    {
      "cell_type": "code",
      "execution_count": null,
      "metadata": {
        "id": "V4Tvr3tZoWfU"
      },
      "outputs": [],
      "source": [
        "day_df.duplicated().sum()"
      ]
    },
    {
      "cell_type": "markdown",
      "metadata": {
        "id": "7dtxhAPrkhPL"
      },
      "source": [
        "**Insight:**\n",
        "- Data yang diberikan sudah tidak ada null dan duplikat"
      ]
    },
    {
      "cell_type": "markdown",
      "metadata": {
        "id": "EhN5R4hr8DC1"
      },
      "source": [
        "### Cleaning Data"
      ]
    },
    {
      "cell_type": "code",
      "execution_count": null,
      "metadata": {
        "id": "jVnYpprE9Evz"
      },
      "outputs": [],
      "source": [
        "##"
      ]
    },
    {
      "cell_type": "markdown",
      "metadata": {
        "id": "Q_5ejIqckiSP"
      },
      "source": [
        "**Insight:**\n",
        "- Data yang diberikan sudah bersih jadi tidak diperlukan cleaning data\n"
      ]
    },
    {
      "cell_type": "markdown",
      "metadata": {
        "id": "gp-Y6wU38DC1"
      },
      "source": [
        "## Exploratory Data Analysis (EDA)"
      ]
    },
    {
      "cell_type": "markdown",
      "metadata": {
        "id": "MW7WF2kr8DC1"
      },
      "source": [
        "### Explore ..."
      ]
    },
    {
      "cell_type": "code",
      "execution_count": null,
      "metadata": {
        "id": "e9CQCZjk8DC2"
      },
      "outputs": [],
      "source": [
        "day_df.describe(include=\"all\")"
      ]
    },
    {
      "cell_type": "code",
      "execution_count": null,
      "metadata": {
        "id": "2DmUWIeW-qnQ"
      },
      "outputs": [],
      "source": [
        "day_df['is_weekend'] = day_df['weekday'].apply(lambda x: 1 if x in [0, 6] else 0)"
      ]
    },
    {
      "cell_type": "code",
      "execution_count": null,
      "metadata": {
        "id": "HHVgmKJ8-x-X"
      },
      "outputs": [],
      "source": [
        "day_df.groupby(by=\"weekday\").agg({\n",
        "    \"registered\": \"mean\",\n",
        "    \"is_weekend\": \"first\"\n",
        "})"
      ]
    },
    {
      "cell_type": "markdown",
      "metadata": {
        "id": "th_Lzl2Fkj9O"
      },
      "source": [
        "**Insight:**\n",
        "- Menjelajahi pertanyaan 1 \"Seberapa besar perbedaan presentase antara penyewaan akhir pekan dan hari kerja?\"\n",
        "- Membuat kolom baru is_weekend, kemudian didapat tabel rata rata penyewa tiapharinya dengan tag is_weekend"
      ]
    },
    {
      "cell_type": "code",
      "execution_count": null,
      "metadata": {
        "id": "AMZWlnf5-yv-"
      },
      "outputs": [],
      "source": [
        "day_df[day_df['season'] == 2].groupby(by=\"yr\").agg({\n",
        "    \"season\" : \"mean\",\n",
        "    \"registered\": \"mean\"\n",
        "})"
      ]
    },
    {
      "cell_type": "markdown",
      "metadata": {
        "id": "RRTrcRoR-9Ss"
      },
      "source": [
        "**Insight:**\n",
        "- Menjelajahi petanyaan 2 \"Bagaimana perubahan persewaan tiap musim gugur selama dua tahun terakhir?\"\n",
        "- Mendapatkan visualisasi tabel untuk mengetahui jumlah antara 2 musim."
      ]
    },
    {
      "cell_type": "markdown",
      "metadata": {
        "id": "zsyZjqak8DC2"
      },
      "source": [
        "## Visualization & Explanatory Analysis"
      ]
    },
    {
      "cell_type": "markdown",
      "metadata": {
        "id": "HZxOiQ6n8DC2"
      },
      "source": [
        "### Pertanyaan 1:"
      ]
    },
    {
      "cell_type": "code",
      "execution_count": null,
      "metadata": {
        "id": "1swJUdAD8DC2"
      },
      "outputs": [],
      "source": [
        "grouped_df = day_df.groupby('is_weekend').agg({\n",
        "    'registered': 'sum'\n",
        "}).reset_index()\n",
        "\n",
        "total_rentals = grouped_df['registered'].sum()\n",
        "\n",
        "grouped_df['percentage'] = (grouped_df['registered'] / total_rentals) * 100\n",
        "\n",
        "grouped_df['is_weekend'] = grouped_df['is_weekend'].apply(lambda x: 'Weekend' if x == 1 else 'Workday')\n",
        "\n",
        "plt.figure(figsize=(8, 5))\n",
        "plt.bar(grouped_df['is_weekend'], grouped_df['percentage'], color=['lightblue', 'lightgreen'])\n",
        "\n",
        "plt.xlabel('Kategori')\n",
        "plt.ylabel('Persentase dari sepeda rental (%)')\n",
        "plt.title('Persentase Penyewaan Sepeda Selama Akhir Pekan vs Hari Kerja')\n",
        "\n",
        "plt.show()"
      ]
    },
    {
      "cell_type": "code",
      "execution_count": null,
      "metadata": {
        "id": "bWQXm-nUkZcL"
      },
      "outputs": [],
      "source": [
        "grouped_df.head()"
      ]
    },
    {
      "cell_type": "markdown",
      "metadata": {
        "id": "knFCxK8ANMOP"
      },
      "source": [
        "**Insight:**\n",
        "- Menggunakan is_weekend yang dibuat saat EDA, kemudian membuat tabel baru untuk menyimpan presentase.\n",
        "- Untuk tabel baru membuat kolom baru untuk persentase, dengan membagi registered pada setiap kategori dan total registered dan merubahnya menjadi presentase."
      ]
    },
    {
      "cell_type": "markdown",
      "metadata": {
        "id": "DgHI7CiU8DC2"
      },
      "source": [
        "### Pertanyaan 2:"
      ]
    },
    {
      "cell_type": "code",
      "execution_count": null,
      "metadata": {
        "id": "Go0lCsvO8DC2"
      },
      "outputs": [],
      "source": [
        "seasonYr_df = day_df[day_df['season'] == 2].groupby(by=\"yr\").agg({\n",
        "    \"season\" : \"nunique\",\n",
        "    \"registered\": \"mean\"\n",
        "})\n",
        "\n",
        "plt.figure(figsize=(5, 5))\n",
        "plt.bar(seasonYr_df.index, seasonYr_df['registered'], color='blue')\n",
        "\n",
        "plt.xlabel('Year (0: 2011, 1: 2012)')\n",
        "plt.ylabel('Rata rata Sepeda disewa')\n",
        "plt.title('Rata rata persewaan tiap musim gugur selama dua tahun terakhir')\n",
        "\n",
        "plt.show()"
      ]
    },
    {
      "cell_type": "markdown",
      "metadata": {
        "id": "Xjvm6KmSNH1M"
      },
      "source": [
        "**Insight:**\n",
        "- Mendapat tabel bar yang membandingkan antara 2 musim tersebut"
      ]
    },
    {
      "cell_type": "markdown",
      "metadata": {
        "id": "9y4VUsmcYNZ5"
      },
      "source": [
        "## Analisis Lanjutan (Opsional)"
      ]
    },
    {
      "cell_type": "code",
      "execution_count": null,
      "metadata": {
        "id": "iWhnzsJGYUCO"
      },
      "outputs": [],
      "source": []
    },
    {
      "cell_type": "markdown",
      "metadata": {
        "id": "_WeHlCeX8DC2"
      },
      "source": [
        "## Conclusion"
      ]
    },
    {
      "cell_type": "markdown",
      "metadata": {
        "id": "ZTcyR48Y8DC2"
      },
      "source": [
        "- Terdapat perbedaan persentase yang lumayan besar dalam penyewaan sepeda pada akhir pekan dan hari kerja. Pada akhir pekan terjadi penurunan penyewaan.\n",
        "- Ada perubahan persewaan sepeda yang signifikan dari musim gugur 2011 dan 2012. Jadi ada trend naik yang positif dalam dua tahun terakhir."
      ]
    }
  ],
  "metadata": {
    "colab": {
      "collapsed_sections": [
        "9y4VUsmcYNZ5"
      ],
      "provenance": []
    },
    "kernelspec": {
      "display_name": "Python 3",
      "language": "python",
      "name": "python3"
    },
    "language_info": {
      "name": "python",
      "version": "3.8.0 (tags/v3.8.0:fa919fd, Oct 14 2019, 19:21:23) [MSC v.1916 32 bit (Intel)]"
    },
    "orig_nbformat": 4,
    "vscode": {
      "interpreter": {
        "hash": "972b3bf27e332e87b5379f2791f6ef9dfc79c71018c370b0d7423235e20fe4d7"
      }
    }
  },
  "nbformat": 4,
  "nbformat_minor": 0
}
