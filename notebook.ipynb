{
  "cells": [
    {
      "cell_type": "markdown",
      "metadata": {
        "id": "H9wADwK78DCz"
      },
      "source": [
        "# Proyek Analisis Data: Bike Sharing Dataset\n",
        "- **Nama:** Joseph Putra Chrisyanto\n",
        "- **Email:** C14220330@john.petra.ac.id\n",
        "- **ID Dicoding:** JOSEPH PUTRA C"
      ]
    },
    {
      "cell_type": "markdown",
      "metadata": {
        "id": "eE0raob58DC0"
      },
      "source": [
        "## Menentukan Pertanyaan Bisnis"
      ]
    },
    {
      "cell_type": "markdown",
      "source": [],
      "metadata": {
        "id": "SYHUTJauOXkH"
      }
    },
    {
      "cell_type": "markdown",
      "metadata": {
        "id": "GmQeQ5YF8DC0"
      },
      "source": [
        "- Apakah banyaknya hari libur mempengaruhi penyewaan sepeda tiap hari?\n",
        "- Bagaimana perubahan persewaan tiap musim gugur selama dua tahun terakhir?"
      ]
    },
    {
      "cell_type": "markdown",
      "metadata": {
        "id": "H-z4QGlO8DC1"
      },
      "source": [
        "## Import Semua Packages/Library yang Digunakan"
      ]
    },
    {
      "cell_type": "code",
      "execution_count": null,
      "metadata": {
        "id": "FVYwaObI8DC1"
      },
      "outputs": [],
      "source": [
        "import numpy as np\n",
        "import pandas as pd\n",
        "import matplotlib.pyplot as plt\n",
        "import seaborn as sns"
      ]
    },
    {
      "cell_type": "markdown",
      "metadata": {
        "id": "h_Sh51Xy8DC1"
      },
      "source": [
        "## Data Wrangling"
      ]
    },
    {
      "cell_type": "markdown",
      "metadata": {
        "id": "sXU2GBYu8DC1"
      },
      "source": [
        "### Gathering Data"
      ]
    },
    {
      "cell_type": "code",
      "execution_count": null,
      "metadata": {
        "id": "zjCBk1BI8DC1"
      },
      "outputs": [],
      "source": [
        "day_df = pd.read_csv(\"day.csv\")\n",
        "day_df.head()"
      ]
    },
    {
      "cell_type": "markdown",
      "source": [
        "**Insight:**\n",
        "- Import data dari file \"day.csv\" dan menunjukan 5 row awal\n",
        "- Data yang diimport mempunyai 16 kolom"
      ],
      "metadata": {
        "id": "MMi6xGaDkbCi"
      }
    },
    {
      "cell_type": "markdown",
      "metadata": {
        "id": "FHSiqaZp8DC1"
      },
      "source": [
        "### Assessing Data"
      ]
    },
    {
      "cell_type": "code",
      "source": [
        "day_df.isna().sum()"
      ],
      "metadata": {
        "id": "LixKfF46oUFD"
      },
      "execution_count": null,
      "outputs": []
    },
    {
      "cell_type": "code",
      "source": [
        "day_df.duplicated().sum()"
      ],
      "metadata": {
        "id": "V4Tvr3tZoWfU"
      },
      "execution_count": null,
      "outputs": []
    },
    {
      "cell_type": "markdown",
      "source": [
        "**Insight:**\n",
        "- Menggunakan fungsi isna().sum() untuk mencari totall missing value\n",
        "- Menggunakan fungsi duplicated().sum() untuk mencari total duplicated value"
      ],
      "metadata": {
        "id": "7dtxhAPrkhPL"
      }
    },
    {
      "cell_type": "markdown",
      "metadata": {
        "id": "EhN5R4hr8DC1"
      },
      "source": [
        "### Cleaning Data"
      ]
    },
    {
      "cell_type": "code",
      "source": [
        "##"
      ],
      "metadata": {
        "id": "jVnYpprE9Evz"
      },
      "execution_count": null,
      "outputs": []
    },
    {
      "cell_type": "markdown",
      "source": [
        "**Insight:**\n",
        "- Data yang diberikan sudah bersih jadi tidak diperlukan cleaning data\n"
      ],
      "metadata": {
        "id": "Q_5ejIqckiSP"
      }
    },
    {
      "cell_type": "markdown",
      "metadata": {
        "id": "gp-Y6wU38DC1"
      },
      "source": [
        "## Exploratory Data Analysis (EDA)"
      ]
    },
    {
      "cell_type": "markdown",
      "metadata": {
        "id": "MW7WF2kr8DC1"
      },
      "source": [
        "### Explore ..."
      ]
    },
    {
      "cell_type": "code",
      "execution_count": null,
      "metadata": {
        "id": "e9CQCZjk8DC2"
      },
      "outputs": [],
      "source": [
        "day_df.describe(include=\"all\")"
      ]
    },
    {
      "cell_type": "code",
      "source": [
        "day_df.groupby(by=\"weekday\").agg({\n",
        "    \"holiday\": \"sum\" ,\n",
        "    \"registered\": \"mean\"\n",
        "})"
      ],
      "metadata": {
        "id": "2DmUWIeW-qnQ"
      },
      "execution_count": null,
      "outputs": []
    },
    {
      "cell_type": "code",
      "source": [
        "day_df.groupby(by=\"weekday\").registered.nunique().sort_values(ascending=False)"
      ],
      "metadata": {
        "id": "HHVgmKJ8-x-X"
      },
      "execution_count": null,
      "outputs": []
    },
    {
      "cell_type": "markdown",
      "source": [
        "**Insight:**\n",
        "- Menjelajahi pertanyaan 1 \"Apakah banyaknya hari libur mempengaruhi penyewaan sepeda tiap hari?\"\n",
        "- menggunakan groupby yang di aggregat dan sort values untuk melihat data"
      ],
      "metadata": {
        "id": "th_Lzl2Fkj9O"
      }
    },
    {
      "cell_type": "code",
      "source": [
        "day_df[day_df['season'] == 2].groupby(by=\"yr\").agg({\n",
        "    \"season\" : \"mean\",\n",
        "    \"registered\": \"mean\"\n",
        "})"
      ],
      "metadata": {
        "id": "AMZWlnf5-yv-"
      },
      "execution_count": null,
      "outputs": []
    },
    {
      "cell_type": "markdown",
      "source": [
        "**Insight:**\n",
        "- Menjelajahi petanyaan 2 \"Bagaimana perubahan persewaan tiap musim gugur selama dua tahun terakhir?\"\n",
        "- Menggunakan nested filter kolom supaya bisa mencari musim gugur tiap tahunnya. Menggunakan \"season\" : \"mean\" supaya keluar penjelasan season."
      ],
      "metadata": {
        "id": "RRTrcRoR-9Ss"
      }
    },
    {
      "cell_type": "markdown",
      "metadata": {
        "id": "zsyZjqak8DC2"
      },
      "source": [
        "## Visualization & Explanatory Analysis"
      ]
    },
    {
      "cell_type": "markdown",
      "metadata": {
        "id": "HZxOiQ6n8DC2"
      },
      "source": [
        "### Pertanyaan 1:"
      ]
    },
    {
      "cell_type": "code",
      "execution_count": null,
      "metadata": {
        "id": "1swJUdAD8DC2"
      },
      "outputs": [],
      "source": [
        "holiReg = day_df.groupby(by=\"weekday\").agg({\n",
        "    \"holiday\": \"sum\",\n",
        "    \"registered\": \"mean\"\n",
        "}).reset_index()\n",
        "\n",
        "\n",
        "days = ['Minggu', 'Senin', 'Selasa', 'Rabu', 'Kamis', 'Jumat', 'Sabtu']\n",
        "\n",
        "holiReg['weekday'] = holiReg['weekday'].apply(lambda x: days[x])\n",
        "\n",
        "fig, ax1 = plt.subplots(figsize=(10, 5))\n",
        "\n",
        "color = 'tab:blue'\n",
        "ax1.set_xlabel('Hari dalam Minggu')\n",
        "ax1.set_ylabel('Jumlah Hari Libur', color=color)\n",
        "ax1.bar(holiReg['weekday'], holiReg['holiday'], color=color, alpha=0.6, label='Jumlah Hari Libur')\n",
        "ax1.tick_params(axis='y', labelcolor=color)\n",
        "\n",
        "ax2 = ax1.twinx()\n",
        "color = 'tab:red'\n",
        "ax2.set_ylabel('Rata-rata Penyewaan Sepeda', color=color)\n",
        "ax2.plot(holiReg['weekday'], holiReg['registered'], color=color, marker='o', label='Rata-rata Penyewaan Sepeda')\n",
        "ax2.tick_params(axis='y', labelcolor=color)\n",
        "\n",
        "plt.title('Pengaruh Hari Libur Terhadap Penyewaan Sepeda Tiap Hari')\n",
        "fig.tight_layout()\n",
        "plt.show()"
      ]
    },
    {
      "cell_type": "markdown",
      "source": [
        "**Insight:**\n",
        "- Menggunakan bar plot dan line plot untuk membandingkan antara 3 point (Jumlah hari libur, Hari, Rata rata penyewaan sepeda)\n",
        "- Hari mulai dari minggu karena mengikuti csv utama"
      ],
      "metadata": {
        "id": "knFCxK8ANMOP"
      }
    },
    {
      "cell_type": "markdown",
      "metadata": {
        "id": "DgHI7CiU8DC2"
      },
      "source": [
        "### Pertanyaan 2:"
      ]
    },
    {
      "cell_type": "code",
      "execution_count": null,
      "metadata": {
        "id": "Go0lCsvO8DC2"
      },
      "outputs": [],
      "source": [
        "seasonYr_df = day_df[day_df['season'] == 2].groupby(by=\"yr\").agg({\n",
        "    \"season\" : \"nunique\",\n",
        "    \"registered\": \"mean\"\n",
        "})\n",
        "\n",
        "plt.figure(figsize=(5, 5))\n",
        "plt.bar(seasonYr_df.index, seasonYr_df['registered'], color='blue')\n",
        "\n",
        "plt.xlabel('Year (0: 2011, 1: 2012)')\n",
        "plt.ylabel('Rata rata Sepeda disewa')\n",
        "plt.title('Rata rata persewaan tiap musim gugur selama dua tahun terakhir')\n",
        "\n",
        "plt.show()"
      ]
    },
    {
      "cell_type": "markdown",
      "source": [
        "**Insight:**\n",
        "- menggunakan bar plot untuk membandingkan 2 musim\n"
      ],
      "metadata": {
        "id": "Xjvm6KmSNH1M"
      }
    },
    {
      "cell_type": "markdown",
      "source": [
        "## Analisis Lanjutan (Opsional)"
      ],
      "metadata": {
        "id": "9y4VUsmcYNZ5"
      }
    },
    {
      "cell_type": "code",
      "source": [],
      "metadata": {
        "id": "iWhnzsJGYUCO"
      },
      "execution_count": null,
      "outputs": []
    },
    {
      "cell_type": "markdown",
      "metadata": {
        "id": "_WeHlCeX8DC2"
      },
      "source": [
        "## Conclusion"
      ]
    },
    {
      "cell_type": "markdown",
      "metadata": {
        "id": "ZTcyR48Y8DC2"
      },
      "source": [
        "- Konklusi dari test dan analisis yang sudah diakukan adalah tidak ada perbedaan yang signifikan dalam penyewaan speda pada hari libur dan weekday biasa.\n",
        "- Ada perubahan persewaan sepeda yang signifikan dari musim gugur 2011 dan 2012. Jadi ada trend naik yang positif dalam dua tahun terakhir."
      ]
    }
  ],
  "metadata": {
    "kernelspec": {
      "display_name": "Python 3",
      "language": "python",
      "name": "python3"
    },
    "language_info": {
      "name": "python",
      "version": "3.8.0 (tags/v3.8.0:fa919fd, Oct 14 2019, 19:21:23) [MSC v.1916 32 bit (Intel)]"
    },
    "orig_nbformat": 4,
    "vscode": {
      "interpreter": {
        "hash": "972b3bf27e332e87b5379f2791f6ef9dfc79c71018c370b0d7423235e20fe4d7"
      }
    },
    "colab": {
      "provenance": [],
      "collapsed_sections": [
        "9y4VUsmcYNZ5"
      ]
    }
  },
  "nbformat": 4,
  "nbformat_minor": 0
}